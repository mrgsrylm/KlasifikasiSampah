{
  "cells": [
    {
      "cell_type": "markdown",
      "metadata": {
        "id": "hO-2-nu8nMw0"
      },
      "source": [
        "# **Klasifikasi Jenis Sampah dengan Xception - CNN**\n",
        "---"
      ]
    },
    {
      "cell_type": "code",
      "execution_count": 1,
      "metadata": {
        "colab": {
          "base_uri": "https://localhost:8080/"
        },
        "id": "txvzpkwsnHrM",
        "outputId": "7dace9a9-f405-4101-a3bb-e190ba45ac5d"
      },
      "outputs": [
        {
          "output_type": "stream",
          "name": "stdout",
          "text": [
            "2.14.0\n"
          ]
        }
      ],
      "source": [
        "# File operations and data manipulation\n",
        "import os, zipfile, shutil\n",
        "from google.colab import drive\n",
        "from shutil import copyfile\n",
        "\n",
        "# Random number generation and numerical computations\n",
        "import random\n",
        "import numpy as np\n",
        "\n",
        "# Visualization library\n",
        "import matplotlib.pyplot as plt\n",
        "import matplotlib.image as mpimg\n",
        "\n",
        "# Deep learning framework and its modules\n",
        "import tensorflow as tf\n",
        "from tensorflow.keras.callbacks import EarlyStopping, ModelCheckpoint\n",
        "from tensorflow.keras.preprocessing.image import load_img, img_to_array\n",
        "from tensorflow import keras\n",
        "from keras.preprocessing import image\n",
        "from keras.preprocessing.image import ImageDataGenerator\n",
        "from keras.applications.xception import Xception\n",
        "from keras import layers\n",
        "from keras import Model\n",
        "\n",
        "# Ignore warnings during execution\n",
        "import warnings\n",
        "warnings.filterwarnings(\"ignore\")\n",
        "\n",
        "# Print TensorFlow version\n",
        "print(tf.__version__)"
      ]
    },
    {
      "cell_type": "markdown",
      "metadata": {
        "id": "Cx0vzXvznC04"
      },
      "source": [
        "## **Dataset Collection**\n",
        "---"
      ]
    },
    {
      "cell_type": "markdown",
      "metadata": {
        "id": "ViCak0B-rbTw"
      },
      "source": [
        "### Def list_directories\n",
        "---"
      ]
    },
    {
      "cell_type": "code",
      "execution_count": null,
      "metadata": {
        "id": "qJv9cauAKuev"
      },
      "outputs": [],
      "source": [
        "def list_directories(root_path):\n",
        "  for rootdir, dirs, files in os.walk(root_path):\n",
        "    for subdir in dirs:\n",
        "      print(os.path.join(rootdir, subdir))"
      ]
    },
    {
      "cell_type": "markdown",
      "metadata": {
        "id": "vjPavnxxK1Pk"
      },
      "source": [
        "### Download Data\n",
        "---"
      ]
    },
    {
      "cell_type": "code",
      "execution_count": null,
      "metadata": {
        "id": "RfBt57oPn2VP"
      },
      "outputs": [],
      "source": [
        "!wget --no-check-certificate \\\n",
        "  https://github.com/mrgsrylm/KlasifikasiSampah/releases/download/v1.0.0/data_organic_recyclable.zip \\\n",
        "  -O data_organic_recyclable.zip\n",
        "\n",
        "!unzip data_organic_recyclable.zip"
      ]
    },
    {
      "cell_type": "markdown",
      "metadata": {
        "id": "6a_uQ0OcRENB"
      },
      "source": [
        "### Dataset Source\n",
        "---"
      ]
    },
    {
      "cell_type": "code",
      "execution_count": null,
      "metadata": {
        "id": "MBiDZHNERQhC"
      },
      "outputs": [],
      "source": [
        "DATASOURCE = 'DATASET'"
      ]
    },
    {
      "cell_type": "markdown",
      "metadata": {
        "id": "K-k9Gc9PRZXB"
      },
      "source": [
        "## **Data Augmentation**\n",
        "---"
      ]
    },
    {
      "cell_type": "markdown",
      "metadata": {
        "id": "lPOq-_5yRpm9"
      },
      "source": [
        "### Datagen from ImageDataGenerator\n",
        "---"
      ]
    },
    {
      "cell_type": "code",
      "execution_count": null,
      "metadata": {
        "id": "OVyEDirJRf5m"
      },
      "outputs": [],
      "source": [
        "train_datagen = ImageDataGenerator(rescale = 1.0 / 255.0,\n",
        "                                   zoom_range = 0.2,\n",
        "                                   shear_range=0.2,\n",
        "                                   width_shift_range = 0.2,\n",
        "                                   height_shift_range = 0.2,\n",
        "                                   rotation_range = 40,\n",
        "                                   fill_mode = 'nearest',\n",
        "                                   horizontal_flip = True,\n",
        "                                   vertical_flip = True,\n",
        "                                   validation_split = 0.2)\n",
        "\n",
        "valid_datagen = ImageDataGenerator(rescale = 1.0 / 255.0,\n",
        "                                   validation_split = 0.2)\n",
        "\n",
        "test_datagen  = ImageDataGenerator(rescale = 1.0 / 255.0)"
      ]
    },
    {
      "cell_type": "markdown",
      "metadata": {
        "id": "-4sr9YQ5OAUT"
      },
      "source": [
        "### Datasets\n",
        "---\n",
        "Flow training, validation and test images in batches of 64 using datagen generator"
      ]
    },
    {
      "cell_type": "code",
      "execution_count": null,
      "metadata": {
        "id": "P2L9hRwzOXhS"
      },
      "outputs": [],
      "source": [
        "train_dataset  = train_datagen.flow_from_directory(directory = os.path.join(DATASOURCE, 'TRAIN'),\n",
        "                                                   target_size = (224,224),\n",
        "                                                   class_mode = 'categorical',\n",
        "                                                   batch_size = 64,\n",
        "                                                   subset = 'training')\n",
        "\n",
        "validation_dataset = valid_datagen.flow_from_directory(directory = os.path.join(DATASOURCE, 'TRAIN'),\n",
        "                                                  target_size = (224,224),\n",
        "                                                  class_mode = 'categorical',\n",
        "                                                  batch_size = 64,\n",
        "                                                  subset = 'validation')\n",
        "\n",
        "test_dataset = test_datagen.flow_from_directory(directory = os.path.join(DATASOURCE, 'TEST'),\n",
        "                                             target_size = (224,224),\n",
        "                                             class_mode = 'categorical',\n",
        "                                             batch_size = 64)"
      ]
    },
    {
      "cell_type": "markdown",
      "metadata": {
        "id": "a2Z7dPz2SMDL"
      },
      "source": [
        "## **Model Building**\n",
        "---\n",
        "Create Model using Convolutional Neural Network InceptionV3 Architecture"
      ]
    },
    {
      "cell_type": "markdown",
      "metadata": {
        "id": "NQ13w1JOS60k"
      },
      "source": [
        "### Create Xception CNN Architecture (with Transfer Learning\n",
        "---"
      ]
    },
    {
      "cell_type": "code",
      "execution_count": null,
      "metadata": {
        "id": "TstNaINsNvkd"
      },
      "outputs": [],
      "source": [
        "xception_pretrained_model = Xception(input_shape=(224, 224, 3),\n",
        "                                include_top=False,\n",
        "                                weights='imagenet')\n",
        "\n",
        "for layer in xception_pretrained_model.layers:\n",
        "    layer.trainable = False\n",
        "\n",
        "xception_pretrained_model.summary()"
      ]
    },
    {
      "cell_type": "code",
      "execution_count": null,
      "metadata": {
        "id": "TNyU8Lh4N-Am"
      },
      "outputs": [],
      "source": [
        "last_layer = xception_pretrained_model.get_layer('add_11')\n",
        "print('last layer output shape: ', last_layer.output_shape)\n",
        "last_output = last_layer.output"
      ]
    },
    {
      "cell_type": "code",
      "execution_count": null,
      "metadata": {
        "id": "yKaOOLxVOEL-"
      },
      "outputs": [],
      "source": [
        "x = layers.Flatten()(last_output)\n",
        "x = layers.Dense(512, activation='relu')(x)\n",
        "x = layers.Dropout(0.2)(x)\n",
        "x = layers.Dense(2, activation='sigmoid')(x)\n",
        "\n",
        "model = Model(xception_pretrained_model.input, x)"
      ]
    },
    {
      "cell_type": "markdown",
      "metadata": {
        "id": "zgNCTZXMTBWX"
      },
      "source": [
        "### Add Optimizer then compile model\n",
        "---"
      ]
    },
    {
      "cell_type": "code",
      "execution_count": null,
      "metadata": {
        "id": "UIJY2gEtTY1J"
      },
      "outputs": [],
      "source": [
        "model.compile(optimizer=tf.keras.optimizers.Adam(learning_rate=0.001),\n",
        "              loss='binary_crossentropy',\n",
        "              metrics = [tf.keras.metrics.AUC(name = 'auc')])"
      ]
    },
    {
      "cell_type": "code",
      "execution_count": null,
      "metadata": {
        "id": "a_abrdyaOnQt"
      },
      "outputs": [],
      "source": [
        "model.summary()"
      ]
    },
    {
      "cell_type": "markdown",
      "metadata": {
        "id": "CDvjqGroc21w"
      },
      "source": [
        "## **Model Training**\n",
        "---"
      ]
    },
    {
      "cell_type": "code",
      "execution_count": null,
      "metadata": {
        "id": "l3ulo4SHUPBi"
      },
      "outputs": [],
      "source": [
        "history = model.fit(train_dataset,\n",
        "                    validation_data=validation_dataset,\n",
        "                    epochs=20,\n",
        "                    verbose=1)"
      ]
    },
    {
      "cell_type": "markdown",
      "metadata": {
        "id": "etgo4GkSdiwT"
      },
      "source": [
        "## **Model Evaluation**\n",
        "---"
      ]
    },
    {
      "cell_type": "markdown",
      "metadata": {
        "id": "O_lB5CPdUhBi"
      },
      "source": [
        "### Plotting accuracy and loss Model\n",
        "---"
      ]
    },
    {
      "cell_type": "code",
      "execution_count": null,
      "metadata": {
        "id": "yvIXNuByUwpw"
      },
      "outputs": [],
      "source": [
        "acc = history.history['au<c']\n",
        "val_acc = history.history['val_auc']\n",
        "\n",
        "loss = history.history['loss']\n",
        "val_loss = history.history['val_loss']\n",
        "\n",
        "epochs = range(len(acc))\n",
        "\n",
        "# Grapich\n",
        "fig, axes = plt.subplots(nrows=1, ncols=2, figsize=(12, 4))\n",
        "\n",
        "axes[0].plot(epochs, acc, 'r', label='Training accuracy')\n",
        "axes[0].plot(epochs, val_acc, 'b', label='Validation accuracy')\n",
        "axes[0].set_title('Training and Validation accuracy')\n",
        "axes[0].legend()\n",
        "\n",
        "axes[1].plot(epochs, loss, 'r', label='Training Loss')\n",
        "axes[1].plot(epochs, val_loss, 'b', label='Validation Loss')\n",
        "axes[1].set_title('Training and Validation loss')\n",
        "axes[1].legend()\n",
        "\n",
        "plt.tight_layout()\n",
        "plt.show()"
      ]
    },
    {
      "cell_type": "markdown",
      "metadata": {
        "id": "wtK3U-y5_Zuo"
      },
      "source": [
        "### Validation Accuracy\n",
        "---"
      ]
    },
    {
      "cell_type": "code",
      "execution_count": null,
      "metadata": {
        "id": "P9X3V7VLIPT4"
      },
      "outputs": [],
      "source": [
        "loss, accuracy = model.evaluate_generator(validation_dataset, steps=10, verbose=0)\n",
        "\n",
        "print('Validation Accuracy: %.3f%%' % (accuracy * 100))\n",
        "print('Validation Loss: %.3f%%' % (loss * 100))\n"
      ]
    },
    {
      "cell_type": "markdown",
      "metadata": {
        "id": "G9X9CDgSAo0A"
      },
      "source": [
        "### Test Accuracy\n",
        "---"
      ]
    },
    {
      "cell_type": "code",
      "execution_count": null,
      "metadata": {
        "id": "dN4qldXvBy_i"
      },
      "outputs": [],
      "source": [
        "loss, accuracy = model.evaluate(test_dataset)\n",
        "\n",
        "print('Test Accuracy: %.3f%%' % (accuracy * 100))\n",
        "print('Test Loss: %.3f%%' % (loss * 100))"
      ]
    },
    {
      "cell_type": "markdown",
      "metadata": {
        "id": "o4pbxL3AlxlO"
      },
      "source": [
        "## **Model Testing**\n",
        "---"
      ]
    },
    {
      "cell_type": "markdown",
      "metadata": {
        "id": "QTb6hk0sEI_i"
      },
      "source": [
        "### Metric Score\n",
        "---"
      ]
    },
    {
      "cell_type": "markdown",
      "metadata": {
        "id": "9Ja0m1crC4xR"
      },
      "source": [
        "### Prediction\n",
        "---"
      ]
    },
    {
      "cell_type": "code",
      "execution_count": null,
      "metadata": {
        "id": "aQbxDKUEC-47"
      },
      "outputs": [],
      "source": [
        "test_x, test_y = test_dataset.__getitem__(1)\n",
        "\n",
        "labels = test_dataset.class_indices\n",
        "labels = dict((v, k) for k, v in labels.items())\n",
        "\n",
        "y_pred = model.predict(test_x)\n",
        "\n",
        "plt.figure(figsize=(16, 16))\n",
        "n = 16\n",
        "count = 0\n",
        "\n",
        "for i in range(n):\n",
        "    plt.subplot(4, 4, i+1)\n",
        "    plt.title('pred:%s / truth:%s' % (labels[np.argmax(y_pred[i])], labels[np.argmax(test_y[i])]))\n",
        "    plt.imshow(test_x[i])\n",
        "    if np.argmax(y_pred[i]) == np.argmax(test_y[i]):\n",
        "        count += 1\n",
        "\n",
        "accuracy = count / n * 100\n",
        "\n",
        "print('Prediction Accuracy: {}%'.format(accuracy))"
      ]
    },
    {
      "cell_type": "markdown",
      "metadata": {
        "id": "oG5QcMxgn7EJ"
      },
      "source": [
        "## **Model Storing**\n",
        "---"
      ]
    },
    {
      "cell_type": "markdown",
      "metadata": {
        "id": "bT-VZfCuoReT"
      },
      "source": [
        "### Save Model (h5)\n",
        "---"
      ]
    },
    {
      "cell_type": "code",
      "execution_count": null,
      "metadata": {
        "id": "c--n8DM4oACS"
      },
      "outputs": [],
      "source": [
        "!mkdir -p \"saved_model\"\n",
        "!mkdir -p \"tflite_model\"\n",
        "# model.save('saved_model/model_xception_klasifikasi_jenis_sampah.h5')\n",
        "shutil.copy('model_xception_klasifikasi_sampah.hdf5', 'saved_model/model_xception_klasifikasi_jenis_sampah.h5')"
      ]
    },
    {
      "cell_type": "markdown",
      "metadata": {
        "id": "hANRs037oaDE"
      },
      "source": [
        "### Save Model (TFLite)\n",
        "---"
      ]
    },
    {
      "cell_type": "code",
      "execution_count": null,
      "metadata": {
        "id": "zFr5UnX_odc_"
      },
      "outputs": [],
      "source": [
        "tf.saved_model.save(model, export_dir=\"saved_model\")\n",
        "\n",
        "converter = tf.lite.TFLiteConverter.from_saved_model(\"saved_model\")\n",
        "converter.optimizations = [tf.lite.Optimize.DEFAULT]\n",
        "tflite_model_inception = converter.convert()"
      ]
    },
    {
      "cell_type": "code",
      "execution_count": null,
      "metadata": {
        "id": "mN3NZHRxo5g5"
      },
      "outputs": [],
      "source": [
        "import pathlib\n",
        "tflite_model_file = pathlib.Path(\"tflite_model/model_xception_klasifikasi_jenis_sampah.tflite\")\n",
        "tflite_model_file.write_bytes(tflite_model_inception)"
      ]
    },
    {
      "cell_type": "markdown",
      "metadata": {
        "id": "k_iPjCZ4CtBc"
      },
      "source": [
        "### Save Model to Google Drive\n",
        "---"
      ]
    },
    {
      "cell_type": "code",
      "execution_count": null,
      "metadata": {
        "id": "JPLbppdECyXw"
      },
      "outputs": [],
      "source": [
        "from google.colab import drive\n",
        "drive.mount(\"/content/drive\")"
      ]
    },
    {
      "cell_type": "code",
      "execution_count": null,
      "metadata": {
        "id": "Usn4aPC2C-Bt"
      },
      "outputs": [],
      "source": [
        "# Model\n",
        "source_saved_model_inception = \"/content/saved_model\"\n",
        "destination_saved_model_inception = \"/content/drive/My Drive/klasifikasi_sampah/jenis_sampah/xception/saved_model\"\n",
        "shutil.copytree(source_saved_model_inception, destination_saved_model_inception)\n",
        "\n",
        "source_tflite_model_inception = \"/content/tflite_model\"\n",
        "destination_tflite_model_inception = \"/content/drive/My Drive/klasifikasi_sampah/jenis_sampah/xception/tflite_model\"\n",
        "shutil.copytree(source_tflite_model_inception, destination_tflite_model_inception)"
      ]
    },
    {
      "cell_type": "markdown",
      "metadata": {
        "id": "0KjU6uYuBSl0"
      },
      "source": [
        "## Conclusion\n",
        "---\n",
        "1. Training Accuracy:\n",
        "2. Validation Accuracy:\n",
        "3. Testing Accuracy:"
      ]
    }
  ],
  "metadata": {
    "accelerator": "GPU",
    "colab": {
      "provenance": [],
      "toc_visible": true
    },
    "kernelspec": {
      "display_name": "Python 3 (ipykernel)",
      "language": "python",
      "name": "python3"
    },
    "language_info": {
      "codemirror_mode": {
        "name": "ipython",
        "version": 3
      },
      "file_extension": ".py",
      "mimetype": "text/x-python",
      "name": "python",
      "nbconvert_exporter": "python",
      "pygments_lexer": "ipython3",
      "version": "3.11.5"
    }
  },
  "nbformat": 4,
  "nbformat_minor": 0
}